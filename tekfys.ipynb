{
 "cells": [
  {
   "cell_type": "markdown",
   "id": "d7393a22",
   "metadata": {},
   "source": []
  },
  {
   "cell_type": "code",
   "execution_count": 2,
   "id": "a2bec188",
   "metadata": {},
   "outputs": [],
   "source": [
    "%matplotlib inline\n",
    "\n",
    "import numpy as np\n",
    "import matplotlib.pyplot as plt\n",
    "newparams = {'figure.figsize': (8.0, 4.0), 'axes.grid': True,\n",
    "             'lines.markersize': 8, 'lines.linewidth': 2,\n",
    "             'font.size': 14}\n",
    "plt.rcParams.update(newparams)\n",
    "\n",
    "def fixedpoint(g, x0, tol=1.e-10, max_iter=30):\n",
    "    ''' Solve x=g(x) by fixed point iterations\n",
    "        The output of each iteration is printed\n",
    "    Input:\n",
    "        g:   The function g(x)\n",
    "        x0:  Initial values\n",
    "        tol: The tolerance\n",
    "    Output:\n",
    "        The root and the number of iterations\n",
    "    '''\n",
    "    x = x0\n",
    "    print(f\"k ={0:3d}, x = {x:14.10f}\") \n",
    "    for k in range(max_iter):        \n",
    "        x_old = x                        # Store old values for error estimation \n",
    "        x = g(x)                         # The iteration\n",
    "        err = abs(x-x_old)               # Error estimate\n",
    "        if err < tol:                    # The solution is accepted\n",
    "            print(f\"k ={k+1:3d}, x = {x:14.10f}\")\n",
    "            break\n",
    "    return x, k+1"
   ]
  },
  {
   "cell_type": "code",
   "execution_count": 4,
   "id": "e62beae5",
   "metadata": {},
   "outputs": [
    {
     "name": "stdout",
     "output_type": "stream",
     "text": [
      "k =  0, x =   2.3000000000\n",
      "k = 49, x =   2.3098814600\n"
     ]
    }
   ],
   "source": [
    "#parametre\n",
    "sigma0 = 1000 #kg/m**2 vanns massetetthet\n",
    "sigma = 500 #kg/m**2 skipets massetetthet\n",
    "R = 10 #m skipets radius\n",
    "As = 1/2*np.pi*R**2 #m**2 skipets tverrsnittsareal\n",
    "m = As*sigma #kg skipets masse\n",
    "Ic = 1/2*m*R**2*(1-32/(9*np.pi**2)) #skipets treghetsmoment\n",
    "\n",
    "\n",
    "def sector(beta):\n",
    "    return np.sin(beta) + np.pi*sigma/sigma0 #the ratio of the ships density to the waters density in (3) is 1/2\n",
    "\n",
    "beta, steps = fixedpoint(sector, 2.3, max_iter=50)\n",
    "# vinkelen som beskriver hvor mye av skipet som er i kontakt med vann ved likevekt er beta\n",
    "# når skipet (er på vei til å) synke(r) er den pi og vi ser at det er beta og ikke beta/2\n",
    "# fra ligningen for sektorvolumet, blant annet\n",
    "\n",
    "yM = R*np.cos(beta/2)"
   ]
  },
  {
   "cell_type": "code",
   "execution_count": 5,
   "id": "37e42dc9",
   "metadata": {},
   "outputs": [],
   "source": [
    "def euler_method(theta_0, w_0, dt):\n",
    "    \"\"\"\n",
    "    Calculates angular displacement and angular velocity using the Euler-Cromer method.\n",
    "\n",
    "    theta_0: initial angular displacement\n",
    "    w_0: initial angular velocity (omega)\n",
    "    dt: timestep\n",
    "    \"\"\"\n",
    "    n = int(T/dt)                # Number of iterations\n",
    "    theta = np.zeros(n+1)        # Creates an array filled with the value 0, of length n+1\n",
    "    w = np.zeros(n+1)\n",
    "    t = np.linspace(0, T, n + 1) # Creates an array of values from 0 to T, with n+1 elements (equally spaced)\n",
    "    theta[0] = theta_0           # Sets the first element in the array equal to the initial angular disp.\n",
    "    w[0] = w_0                   # Sets the first element in the array equal to the inital angular velocity.\n",
    "    for i in range(n):           # For-loop over all values from (and including) 0, to (not including) n. Stepsize is 1. \n",
    "        theta[i+1] = theta[i] + w[i]*dt # Computes the next theta-value and inserts into the array\n",
    "        w[i+1] = w[i] - g/l*theta[i]*dt # Computes the next omega-value and inserts into the array\n",
    "    return theta, w, t"
   ]
  }
 ],
 "metadata": {
  "kernelspec": {
   "display_name": "Python 3 (ipykernel)",
   "language": "python",
   "name": "python3"
  },
  "language_info": {
   "codemirror_mode": {
    "name": "ipython",
    "version": 3
   },
   "file_extension": ".py",
   "mimetype": "text/x-python",
   "name": "python",
   "nbconvert_exporter": "python",
   "pygments_lexer": "ipython3",
   "version": "3.7.11"
  }
 },
 "nbformat": 4,
 "nbformat_minor": 5
}
